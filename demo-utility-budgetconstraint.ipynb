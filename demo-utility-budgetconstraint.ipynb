{
 "cells": [
  {
   "cell_type": "markdown",
   "metadata": {},
   "source": [
    "Constrained Utility Maximization\n",
    "====================\n",
    "\n",
    "This example solves a demand problem with Cobb-Douglas utility \n",
    "\n",
    "\n",
    "$$U(x_1,x_2) = x_1^\\alpha x_2^\\beta$$\n",
    "\n",
    "and budget constraint\n",
    "\n",
    "$$M = x_1p_1+x_2p_2$$\n",
    "\n",
    "Solving for $x_2$ to obtain the budget constraint in terms of $M$ and $x_1$ gives\n",
    "\n",
    "$$x_2 = \\frac{M}{p_2} - x_1\\frac{p_1}{p_2}$$\n",
    "\n",
    "Solving for an isoquant in terms of $U$ and $x_1$\n",
    "\n",
    "$$x_2 = \\left( \\frac{U}{x_1^\\alpha}\\right)^\\frac{1}{\\beta}$$\n"
   ]
  },
  {
   "cell_type": "code",
   "execution_count": 4,
   "metadata": {
    "collapsed": true
   },
   "outputs": [],
   "source": [
    "%matplotlib inline\n",
    "import numpy as np\n",
    "import matplotlib.pyplot as plt\n",
    "from ipywidgets import interact\n",
    "from __future__ import division\n",
    "\n",
    "def utility(x1,alpha,x2,beta):\n",
    "    return (x1**alpha)*(x2**beta)\n",
    "\n",
    "def isoquant(x1,alpha,beta,u):\n",
    "    return (u/(x1**alpha))**(1/beta)\n",
    "\n",
    "def budgetconst(m,p1,p2,x1):\n",
    "    return (m/p2)-(p1/p2)*x1"
   ]
  },
  {
   "cell_type": "markdown",
   "metadata": {},
   "source": [
    "Finding Optimal Point\n",
    "------------------------\n",
    "\n",
    "Using a Lagrangian to find the optimal point\n",
    "\n",
    "$$L(x_1,x_2) = x_1^\\alpha x_2^\\beta + \\lambda(M - x_1p_1 - x_2p_2)$$\n",
    "\n",
    "Differentiate with respect to $x_1$ and $x_2$\n",
    "\n",
    "$$ \\frac{\\partial L}{\\partial x_1} = \\alpha x_1^{\\alpha-1} x_2^\\beta - \\lambda{p_1} $$\n",
    "$$ \\frac{\\partial L}{\\partial x_2} = \\beta x_2^{\\beta-1} x_1^\\alpha - \\lambda{p_2} $$\n",
    "\n",
    "Setting both first order conditions $=0$ and substitute for $\\lambda$ and solving for $x_1$ in terms of $x_2$\n",
    "\n",
    "$$ x_1 = \\frac{\\alpha p_2}{\\beta p_1}x_2$$\n",
    "\n",
    "Substitute into the budget constraint to solve for $x_2$\n",
    "\n",
    "$$x_2 = \\frac{M}{\\frac{\\alpha}{\\beta}p_2}  + p_2$$\n",
    "\n",
    "Now we can solve for $x_2$ using parameters $\\alpha$, $\\beta$, and price."
   ]
  },
  {
   "cell_type": "code",
   "execution_count": 5,
   "metadata": {
    "collapsed": true
   },
   "outputs": [],
   "source": [
    "#-Find Optimal Point Function-#\n",
    "def find_optimal(p1,p2,alpha,beta,m=1):\n",
    "    x2 = m/((alpha/beta)*(p2)+p2)\n",
    "    x1 = (alpha/beta)*(p2/p1)*x2\n",
    "    u = utility(x1,alpha,x2,beta)\n",
    "    return x1,x2,u"
   ]
  },
  {
   "cell_type": "markdown",
   "metadata": {},
   "source": [
    "Plot\n",
    "-----\n",
    "\n",
    "Now that the functions have been defined we can use them to construct an interactive plot\n",
    "\n"
   ]
  },
  {
   "cell_type": "code",
   "execution_count": 6,
   "metadata": {
    "collapsed": false
   },
   "outputs": [
    {
     "data": {
      "image/png": "[encoded data removed]",
      "text/plain": [
       "<matplotlib.figure.Figure at 0x1067b64e0>"
      ]
     },
     "metadata": {},
     "output_type": "display_data"
    }
   ],
   "source": [
    "#-Parameters-#\n",
    "alpha = 0.5\n",
    "beta = 0.5\n",
    "p1 = 1\n",
    "p2 = 1\n",
    "m = 10\n",
    "\n",
    "@interact(alpha=(0.01,0.99,0.01),beta=(0.01,0.99,0.01), p1=(1,10,1),p2=(1,10,1),m=(1,24,1))\n",
    "def interact_figure(alpha=alpha,beta=beta,p1=p1,p2=p2,m=m):\n",
    "    x1i,x2i,u = find_optimal(p1,p2,alpha,beta,m)\n",
    "    #-Figure-#\n",
    "    x1 = np.arange(0.1,10,0.1)\n",
    "    x2a = isoquant(x1,alpha,beta,u)\n",
    "    x2b = budgetconst(m,p1,p2,x1)\n",
    "    fig, ax = plt.subplots(figsize=(8,8))\n",
    "    ax.plot(x1, x2a, lw=2, alpha=0.6, label='isoquant')\n",
    "    ax.plot(x1, x2b, lw=2, alpha=0.6, label='budget')\n",
    "    ax.vlines(x1i,0,x2i, linestyles=\"dashed\")\n",
    "    ax.hlines(x2i,0,x1i, linestyles=\"dashed\")\n",
    "    ax.plot(x1i,x2i,'or')\n",
    "    ax.set_xlabel(r'$x_{1}$', fontsize=14)\n",
    "    ax.set_xlim(0, 10)\n",
    "    ax.set_ylabel('$x_{2}$', fontsize=14)\n",
    "    ax.set_ylim(0, 10)\n",
    "    ax.legend(loc='upper right', frameon=False, fontsize=14)\n",
    "    plt.show()"
   ]
  },
  {
   "cell_type": "code",
   "execution_count": null,
   "metadata": {
    "collapsed": false
   },
   "outputs": [],
   "source": []
  },
  {
   "cell_type": "code",
   "execution_count": null,
   "metadata": {
    "collapsed": true
   },
   "outputs": [],
   "source": []
  }
 ],
 "metadata": {
  "kernelspec": {
   "display_name": "Python 3",
   "language": "python",
   "name": "python3"
  },
  "language_info": {
   "codemirror_mode": {
    "name": "ipython",
    "version": 3
   },
   "file_extension": ".py",
   "mimetype": "text/x-python",
   "name": "python",
   "nbconvert_exporter": "python",
   "pygments_lexer": "ipython3",
   "version": "3.6.0"
  }
 },
 "nbformat": 4,
 "nbformat_minor": 0
}
